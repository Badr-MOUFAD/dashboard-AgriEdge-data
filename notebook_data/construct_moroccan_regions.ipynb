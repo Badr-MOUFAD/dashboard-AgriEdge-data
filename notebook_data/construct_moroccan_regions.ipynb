{
 "cells": [
  {
   "cell_type": "code",
   "execution_count": 1,
   "source": [
    "# chnage the working directory to point to the root directory\r\n",
    "import os\r\n",
    "\r\n",
    "os.chdir(\"../\")"
   ],
   "outputs": [],
   "metadata": {}
  },
  {
   "cell_type": "code",
   "execution_count": 2,
   "source": [
    "# imports\r\n",
    "import numpy as np\r\n",
    "import pandas as pd"
   ],
   "outputs": [],
   "metadata": {}
  },
  {
   "cell_type": "code",
   "execution_count": 3,
   "source": [
    "\r\n",
    "# imports for plots\r\n",
    "from plotly import graph_objects as go\r\n",
    "import plotly.express as px\r\n",
    "from plotly.subplots import make_subplots\r\n",
    "import plotly.io as pio\r\n",
    "\r\n",
    "pio.templates.default = \"plotly_white\""
   ],
   "outputs": [],
   "metadata": {}
  },
  {
   "cell_type": "code",
   "execution_count": 4,
   "source": [
    "# polygon points \r\n",
    "point_bottom_left = (21.30230225738808, -18.36321420540108)\r\n",
    "point_bottom_right = (21.528764710648684, -12.594523742277499)\r\n",
    "\r\n",
    "point_center_right = (32.11065951756146, -0.9222339741285166)\r\n",
    "point_top_right = (35.11411895680675, -1.4443331500760772)\r\n",
    "\r\n",
    "point_top_left = (36.499784004247495, -7.567132577097473)"
   ],
   "outputs": [],
   "metadata": {}
  },
  {
   "cell_type": "code",
   "execution_count": 5,
   "source": [
    "SATELLAITE_RESOLUTION = 0.3\r\n",
    "\r\n",
    "# grid points\r\n",
    "bottom_left = (21.191028281152967, -17.77179828879979)\r\n",
    "bottom_right = (20.969592616916337, 0.07450081631682927)\r\n",
    "\r\n",
    "top_right = (36.80441389073039, 0.9288449224128301)\r\n",
    "top_left = (36.766401087897854, -16.490282129655775)\r\n",
    "\r\n",
    "# nb points in each direction\r\n",
    "nb_points_lat = int((top_left[0] - bottom_left[0]) / SATELLAITE_RESOLUTION) + 1\r\n",
    "nb_points_lon = int((top_right[1] - top_left[1]) / SATELLAITE_RESOLUTION) + 1\r\n",
    "\r\n",
    "# generate grid from bottom to top\r\n",
    "# and from left to right\r\n",
    "grid_points = []\r\n",
    "\r\n",
    "for i in range(nb_points_lat):\r\n",
    "    for j in range(nb_points_lon):\r\n",
    "        point = (bottom_left[0] + i * SATELLAITE_RESOLUTION, bottom_left[1] + j * SATELLAITE_RESOLUTION)\r\n",
    "\r\n",
    "        grid_points.append(point)"
   ],
   "outputs": [],
   "metadata": {}
  },
  {
   "cell_type": "code",
   "execution_count": 3,
   "source": [
    "# plot grid\r\n",
    "\r\n",
    "lat = [point[0] for point in grid_points]\r\n",
    "lon = [point[1] for point in grid_points]\r\n",
    "\r\n",
    "fig = go.Figure(data=[\r\n",
    "    go.Scattergeo(lat=lat, lon=lon, mode=\"markers\")\r\n",
    "])\r\n",
    "\r\n",
    "fig.show(renderer=\"notebook\")"
   ],
   "outputs": [],
   "metadata": {}
  },
  {
   "cell_type": "code",
   "execution_count": 7,
   "source": [
    "print(len(lat))"
   ],
   "outputs": [
    {
     "output_type": "stream",
     "name": "stdout",
     "text": [
      "3068\n"
     ]
    }
   ],
   "metadata": {}
  },
  {
   "cell_type": "code",
   "execution_count": 8,
   "source": [
    "# preselction of points\r\n",
    "# filter points\r\n",
    "from shapely.geometry import Point\r\n",
    "from shapely.geometry.polygon import Polygon\r\n",
    "\r\n",
    "polygon = Polygon([point_bottom_left, point_bottom_right, point_center_right, point_top_right, point_top_left])\r\n",
    "\r\n",
    "selected_points = []\r\n",
    "\r\n",
    "for point in grid_points:\r\n",
    "    p = Point(point)\r\n",
    "    \r\n",
    "    if polygon.contains(p):\r\n",
    "        selected_points.append(point)"
   ],
   "outputs": [],
   "metadata": {}
  },
  {
   "cell_type": "code",
   "execution_count": 2,
   "source": [
    "# check filtering\r\n",
    "lat = [point[0] for point in selected_points]\r\n",
    "lon = [point[1] for point in selected_points]\r\n",
    "\r\n",
    "fig = go.Figure(data=[\r\n",
    "    go.Scattergeo(lat=lat, lon=lon, mode=\"markers\")\r\n",
    "])\r\n",
    "\r\n",
    "fig.show(renderer=\"notebook\")"
   ],
   "outputs": [],
   "metadata": {}
  },
  {
   "cell_type": "code",
   "execution_count": 10,
   "source": [
    "len(lat)"
   ],
   "outputs": [
    {
     "output_type": "execute_result",
     "data": {
      "text/plain": [
       "1247"
      ]
     },
     "metadata": {},
     "execution_count": 10
    }
   ],
   "metadata": {}
  },
  {
   "cell_type": "code",
   "execution_count": 11,
   "source": [
    "# determine the country to which a coordinates belongs\r\n",
    "import requests\r\n",
    "\r\n",
    "\r\n",
    "def get_region_info(lat, lon):\r\n",
    "    # request params\r\n",
    "    ACCESS_KEY = \"12d5dd3bb61e853acf1fa318137b85dd\"\r\n",
    "    lat, lon = lat, lon\r\n",
    "    URL = f\"http://api.positionstack.com/v1/reverse?access_key={ACCESS_KEY}&query={lat},{lon}\"\r\n",
    "\r\n",
    "    # request server\r\n",
    "    try:\r\n",
    "        res = requests.get(URL).json()\r\n",
    "        country, region, name = res[\"data\"][0][\"country\"], res[\"data\"][0][\"region\"], res[\"data\"][0][\"name\"]\r\n",
    "    except:\r\n",
    "        return \"None\", \"None\", \"None\" \r\n",
    "\r\n",
    "    return country, region, name"
   ],
   "outputs": [],
   "metadata": {}
  },
  {
   "cell_type": "code",
   "execution_count": 12,
   "source": [
    "# filter points that belongs to morocco\r\n",
    "countries = ['Morocco', 'Western Sahara']\r\n",
    "morocco_regions = pd.DataFrame(columns=[\"lat\", \"lon\", \"region\", \"name\"])\r\n",
    "\r\n",
    "for point in selected_points:\r\n",
    "    lat, lon = point\r\n",
    "    country, region, name = get_region_info(lat, lon)\r\n",
    "\r\n",
    "    # add point whose country is morocco\r\n",
    "    if country in countries:\r\n",
    "        frame = {\r\n",
    "            \"lat\": [lat],\r\n",
    "            \"lon\": [lon],\r\n",
    "            \"region\": [region],\r\n",
    "            \"name\": [name]\r\n",
    "        }\r\n",
    "\r\n",
    "        morocco_regions = morocco_regions.append(pd.DataFrame(frame), ignore_index=True)"
   ],
   "outputs": [],
   "metadata": {}
  },
  {
   "cell_type": "code",
   "execution_count": 1,
   "source": [
    "fig = px.scatter_geo(morocco_regions, lat=\"lat\", lon=\"lon\")\r\n",
    "\r\n",
    "fig.show(renderer=\"notebook\")"
   ],
   "outputs": [],
   "metadata": {}
  },
  {
   "cell_type": "code",
   "execution_count": 14,
   "source": [
    "morocco_regions"
   ],
   "outputs": [
    {
     "output_type": "execute_result",
     "data": {
      "text/plain": [
       "           lat        lon           region                    name\n",
       "0    21.491028 -16.871798    Oued Ed-Dahab           Oued Ed-Dahab\n",
       "1    21.491028 -16.571798    Oued Ed-Dahab           Oued Ed-Dahab\n",
       "2    21.491028 -16.271798    Oued Ed-Dahab           Oued Ed-Dahab\n",
       "3    21.491028 -15.971798   Western Sahara          Western Sahara\n",
       "4    21.491028 -15.671798    Oued Ed-Dahab           Oued Ed-Dahab\n",
       "..         ...        ...              ...                     ...\n",
       "700  35.291028  -3.671798         Oriental                  Kilati\n",
       "701  35.291028  -3.071798         Oriental       Playa Los Piratos\n",
       "702  35.591028  -5.771798  Tangier-Tetouan           Talae Dahnoun\n",
       "703  35.591028  -5.471798  Tangier-Tetouan             Bounazzal 1\n",
       "704  35.891028  -5.471798  Tangier-Tetouan  Ferme Abdellah Douasse\n",
       "\n",
       "[705 rows x 4 columns]"
      ],
      "text/html": [
       "<div>\n",
       "<style scoped>\n",
       "    .dataframe tbody tr th:only-of-type {\n",
       "        vertical-align: middle;\n",
       "    }\n",
       "\n",
       "    .dataframe tbody tr th {\n",
       "        vertical-align: top;\n",
       "    }\n",
       "\n",
       "    .dataframe thead th {\n",
       "        text-align: right;\n",
       "    }\n",
       "</style>\n",
       "<table border=\"1\" class=\"dataframe\">\n",
       "  <thead>\n",
       "    <tr style=\"text-align: right;\">\n",
       "      <th></th>\n",
       "      <th>lat</th>\n",
       "      <th>lon</th>\n",
       "      <th>region</th>\n",
       "      <th>name</th>\n",
       "    </tr>\n",
       "  </thead>\n",
       "  <tbody>\n",
       "    <tr>\n",
       "      <th>0</th>\n",
       "      <td>21.491028</td>\n",
       "      <td>-16.871798</td>\n",
       "      <td>Oued Ed-Dahab</td>\n",
       "      <td>Oued Ed-Dahab</td>\n",
       "    </tr>\n",
       "    <tr>\n",
       "      <th>1</th>\n",
       "      <td>21.491028</td>\n",
       "      <td>-16.571798</td>\n",
       "      <td>Oued Ed-Dahab</td>\n",
       "      <td>Oued Ed-Dahab</td>\n",
       "    </tr>\n",
       "    <tr>\n",
       "      <th>2</th>\n",
       "      <td>21.491028</td>\n",
       "      <td>-16.271798</td>\n",
       "      <td>Oued Ed-Dahab</td>\n",
       "      <td>Oued Ed-Dahab</td>\n",
       "    </tr>\n",
       "    <tr>\n",
       "      <th>3</th>\n",
       "      <td>21.491028</td>\n",
       "      <td>-15.971798</td>\n",
       "      <td>Western Sahara</td>\n",
       "      <td>Western Sahara</td>\n",
       "    </tr>\n",
       "    <tr>\n",
       "      <th>4</th>\n",
       "      <td>21.491028</td>\n",
       "      <td>-15.671798</td>\n",
       "      <td>Oued Ed-Dahab</td>\n",
       "      <td>Oued Ed-Dahab</td>\n",
       "    </tr>\n",
       "    <tr>\n",
       "      <th>...</th>\n",
       "      <td>...</td>\n",
       "      <td>...</td>\n",
       "      <td>...</td>\n",
       "      <td>...</td>\n",
       "    </tr>\n",
       "    <tr>\n",
       "      <th>700</th>\n",
       "      <td>35.291028</td>\n",
       "      <td>-3.671798</td>\n",
       "      <td>Oriental</td>\n",
       "      <td>Kilati</td>\n",
       "    </tr>\n",
       "    <tr>\n",
       "      <th>701</th>\n",
       "      <td>35.291028</td>\n",
       "      <td>-3.071798</td>\n",
       "      <td>Oriental</td>\n",
       "      <td>Playa Los Piratos</td>\n",
       "    </tr>\n",
       "    <tr>\n",
       "      <th>702</th>\n",
       "      <td>35.591028</td>\n",
       "      <td>-5.771798</td>\n",
       "      <td>Tangier-Tetouan</td>\n",
       "      <td>Talae Dahnoun</td>\n",
       "    </tr>\n",
       "    <tr>\n",
       "      <th>703</th>\n",
       "      <td>35.591028</td>\n",
       "      <td>-5.471798</td>\n",
       "      <td>Tangier-Tetouan</td>\n",
       "      <td>Bounazzal 1</td>\n",
       "    </tr>\n",
       "    <tr>\n",
       "      <th>704</th>\n",
       "      <td>35.891028</td>\n",
       "      <td>-5.471798</td>\n",
       "      <td>Tangier-Tetouan</td>\n",
       "      <td>Ferme Abdellah Douasse</td>\n",
       "    </tr>\n",
       "  </tbody>\n",
       "</table>\n",
       "<p>705 rows × 4 columns</p>\n",
       "</div>"
      ]
     },
     "metadata": {},
     "execution_count": 14
    }
   ],
   "metadata": {}
  },
  {
   "cell_type": "code",
   "execution_count": 17,
   "source": [
    "# save data frame\r\n",
    "# morocco_regions.to_csv(\"raw_data/moroccan_regions.csv\", index=False)"
   ],
   "outputs": [],
   "metadata": {}
  }
 ],
 "metadata": {
  "orig_nbformat": 4,
  "language_info": {
   "name": "python",
   "version": "3.8.5",
   "mimetype": "text/x-python",
   "codemirror_mode": {
    "name": "ipython",
    "version": 3
   },
   "pygments_lexer": "ipython3",
   "nbconvert_exporter": "python",
   "file_extension": ".py"
  },
  "kernelspec": {
   "name": "python3",
   "display_name": "Python 3.8.5 64-bit ('base': conda)"
  },
  "interpreter": {
   "hash": "1e915f0a29dc84041eaeb02b7b1a21c440e37a87b61d44d5e84a515737dc82bc"
  }
 },
 "nbformat": 4,
 "nbformat_minor": 2
}